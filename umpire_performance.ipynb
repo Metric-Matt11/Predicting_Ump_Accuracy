{
 "cells": [
  {
   "cell_type": "markdown",
   "metadata": {},
   "source": [
    "# Predicting Umpire Accuracy: Data Preparation and Modeling\n",
    "\n",
    "This notebook guides you through data loading, cleaning, and modeling steps to predict umpire accuracy using MLB data. We’ll use pandas, scikit-learn, matplotlib, and pybaseball."
   ]
  },
  {
   "cell_type": "markdown",
   "metadata": {},
   "source": [
    "## 1. Imports\n",
    "\n",
    "First, we import all necessary libraries."
   ]
  },
  {
   "cell_type": "code",
   "execution_count": null,
   "metadata": {},
   "outputs": [],
   "source": [
    "import pandas as pd\n",
    "import matplotlib.pyplot as plt\n",
    "from pybaseball import schedule_and_record\n",
    "from sklearn.tree import DecisionTreeRegressor\n",
    "from sklearn.model_selection import train_test_split\n",
    "from sklearn.metrics import mean_absolute_error\n",
    "from sklearn.ensemble import RandomForestRegressor"
   ]
  },
  {
   "cell_type": "markdown",
   "metadata": {},
   "source": [
    "## 2. Data Loading\n",
    "\n",
    "We load three CSVs:\n",
    "- Park mapping\n",
    "- Umpire games\n",
    "- Umpire stats"
   ]
  },
  {
   "cell_type": "code",
   "execution_count": null,
   "metadata": {},
   "outputs": [],
   "source": [
    "parks = pd.read_csv('datasets/Park_Mapping.csv')\n",
    "parks_loc = parks[['Team Abv', 'Arena Location']]\n",
    "games = pd.read_csv('datasets/umpgames.csv')\n",
    "umpires = pd.read_csv('datasets/umpstats.csv')\n",
    "time_record_by_game = pd.DataFrame()"
   ]
  },
  {
   "cell_type": "markdown",
   "metadata": {},
   "source": [
    "## 3. Preprocessing: Creating Unique Game Identifiers\n",
    "\n",
    "We combine the date and home team to create a unique game key for merging."
   ]
  },
  {
   "cell_type": "code",
   "execution_count": null,
   "metadata": {},
   "outputs": [],
   "source": [
    "games['Date_team'] = games['Date'] + games['Home Team']\n",
    "parks_list = parks['Pybaseball Abv'].tolist()"
   ]
  },
  {
   "cell_type": "markdown",
   "metadata": {},
   "source": [
    "## 4. Gather Team Schedule and Record Data\n",
    "\n",
    "We use pybaseball to get schedules and game records for each team in 2021, appending to `time_record_by_game`.\n",
    "\n",
    "**Note:** This cell may take a while since it queries data for each team."
   ]
  },
  {
   "cell_type": "code",
   "execution_count": null,
   "metadata": {},
   "outputs": [],
   "source": [
    "for teams in parks_list:\n",
    "    time_and_record = schedule_and_record(2021, teams)\n",
    "    time_record_by_game = time_record_by_game.append(time_and_record)"
   ]
  },
  {
   "cell_type": "markdown",
   "metadata": {},
   "source": [
    "## 5. Cleaning and Formatting Schedule Data\n",
    "\n",
    "We extract doubleheader info, clean date formats, and standardize 'Games Behind' (GB) columns."
   ]
  },
  {
   "cell_type": "code",
   "execution_count": null,
   "metadata": {},
   "outputs": [],
   "source": [
    "time_record_by_game['Doubleheader Game'] = time_record_by_game['Date'].apply(\n",
    "    lambda dh: dh[dh.find(\"(\") + 1:dh.find(\")\")] if dh.find(')') > 0 else 0)\n",
    "time_record_by_game['Date'] = time_record_by_game['Date'].map(\n",
    "    lambda date: date[:-4] if date.find(')') > 0 else date)\n",
    "time_record_by_game['Date_team'] = time_record_by_game['Date'] + time_record_by_game['Tm']\n",
    "time_record_by_game = time_record_by_game[(time_record_by_game['D/N'] == 'D') | (time_record_by_game['D/N'] == 'N')]\n",
    "time_record_by_game['GB'] = time_record_by_game['GB'].replace(['Tied'], 0)\n",
    "time_record_by_game['GB'] = time_record_by_game['GB'].str.replace('up ', '-')\n",
    "time_record_by_game['GB'] = time_record_by_game['GB'].astype(float) * -1\n",
    "time_record_by_game['GB'] = time_record_by_game['GB'].fillna(0)"
   ]
  },
  {
   "cell_type": "markdown",
   "metadata": {},
   "source": [
    "## 6. Merging All Data Sources\n",
    "\n",
    "We join umpire game logs, umpire season stats, park locations, and team schedule/records into a single DataFrame."
   ]
  },
  {
   "cell_type": "code",
   "execution_count": null,
   "metadata": {},
   "outputs": [],
   "source": [
    "umpire_games = pd.merge(games, umpires, how='inner', on='Umpire', suffixes=(\"\", \"_season\"))\n",
    "umpire_games_parks = pd.merge(umpire_games, parks_loc, how='inner', left_on='Home Team', right_on='Team Abv')\n",
    "umpire_games_parks_time = pd.merge(umpire_games_parks, time_record_by_game, how='inner', on='Date_team')\n",
    "umpire_games_parks_time = umpire_games_parks_time.drop_duplicates(subset=['ID'])"
   ]
  },
  {
   "cell_type": "markdown",
   "metadata": {},
   "source": [
    "## 7. Selecting Usable Columns for Analysis\n",
    "\n",
    "We select relevant columns for downstream analysis and modeling."
   ]
  },
  {
   "cell_type": "code",
   "execution_count": null,
   "metadata": {},
   "outputs": [],
   "source": [
    "usable_cols = [\n",
    "    'Date_x', 'Umpire', 'Home Team', 'Away Team', 'Home Score', 'Away Score', 'Accuracy',\n",
    "    'Consistency', 'Favor [Home]', 'Games', 'Called Pitches_season', 'Accuracy_season',\n",
    "    'Arena Location', 'W/L', 'R', 'Inn', 'GB', 'Time', 'D/N', 'Attendance', 'Streak',\n",
    "    'Doubleheader Game'\n",
    "]\n",
    "usable_data = umpire_games_parks_time[usable_cols]"
   ]
  },
  {
   "cell_type": "markdown",
   "metadata": {},
   "source": [
    "## 8. Modeling Data Preparation\n",
    "\n",
    "We build the feature (X) and target (y) datasets, filling missing values."
   ]
  },
  {
   "cell_type": "code",
   "execution_count": null,
   "metadata": {},
   "outputs": [],
   "source": [
    "model_cols = [\n",
    "    'Games', 'Called Pitches_season', 'Accuracy_season',\n",
    "    'Inn', 'GB', 'Attendance', 'Streak', 'Doubleheader Game'\n",
    "]\n",
    "model_data = umpire_games_parks_time[model_cols].fillna(0)"
   ]
  },
  {
   "cell_type": "markdown",
   "metadata": {},
   "source": [
    "## 9. Exploratory Function: Plotting\n",
    "\n",
    "A helper function to scatter plot variables."
   ]
  },
  {
   "cell_type": "code",
   "execution_count": null,
   "metadata": {},
   "outputs": [],
   "source": [
    "def plot_scatter(x_axis, y_axis, input_data):\n",
    "    plt.scatter(input_data[x_axis], input_data[y_axis])\n",
    "    plt.xlabel(x_axis)\n",
    "    plt.ylabel(y_axis)\n",
    "    plt.show()"
   ]
  },
  {
   "cell_type": "markdown",
   "metadata": {},
   "source": [
    "## 10. Modeling: Random Forest Regressor\n",
    "\n",
    "We train and evaluate a Random Forest model to predict umpire accuracy."
   ]
  },
  {
   "cell_type": "code",
   "execution_count": null,
   "metadata": {},
   "outputs": [],
   "source": [
    "x = model_data\n",
    "y = usable_data['Accuracy']\n",
    "train_x, val_x, train_y, val_y = train_test_split(x, y, random_state=1)\n",
    "\n",
    "umpire_performance_model = RandomForestRegressor(random_state=1)\n",
    "umpire_performance_model.fit(train_x, train_y)\n",
    "umpire_predictions = umpire_performance_model.predict(val_x)\n",
    "\n",
    "print(\"Predicted Accuracies:\", umpire_predictions)\n",
    "print(\"Mean Absolute Error:\", mean_absolute_error(val_y, umpire_predictions))"
   ]
  },
  {
   "cell_type": "markdown",
   "metadata": {},
   "source": [
    "## Notes\n",
    "- Ensure all required data files are in a `datasets/` folder relative to your notebook.\n",
    "- pybaseball may need to be installed via `pip install pybaseball`.\n",
    "- Depending on your data, some columns may need additional cleaning."
   ]
  }
 ],
 "metadata": {
  "kernelspec": {
   "display_name": "Python 3",
   "language": "python",
   "name": "python3"
  },
  "language_info": {
   "name": "python",
   "version": ""
  }
 },
 "nbformat": 4,
 "nbformat_minor": 2
}
